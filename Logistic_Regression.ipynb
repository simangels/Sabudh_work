{
 "cells": [
  {
   "cell_type": "code",
   "execution_count": 1211,
   "metadata": {},
   "outputs": [],
   "source": [
    "import pandas as pd \n",
    "import numpy as np\n",
    "from sklearn.model_selection import train_test_split"
   ]
  },
  {
   "cell_type": "code",
   "execution_count": 1247,
   "metadata": {
    "scrolled": true
   },
   "outputs": [],
   "source": [
    "mydata=pd.read_csv(\"logistic_reg_data.csv\",index_col=False)\n",
    "xtrain,xtest,ytrain,ytest = train_test_split(mydata[[\"X\",\"Y\"]],mydata[[\"label\"]],test_size=0.2)"
   ]
  },
  {
   "cell_type": "code",
   "execution_count": 1248,
   "metadata": {},
   "outputs": [
    {
     "name": "stdout",
     "output_type": "stream",
     "text": [
      "it is merged matrix of two matrix X1 and X2  (160, 3)\n",
      "It is the shape of label which is take as Y (1, 160)\n",
      "It is the shape of theta which is take as theta (3, 1)\n"
     ]
    }
   ],
   "source": [
    "X1=np.matrix(xtrain['X'])\n",
    "X2=np.matrix(xtrain['Y'])\n",
    "\n",
    "Merged_mat=np.concatenate((np.matrix(np.ones(xtrain.shape[0])).T,X1.T,X2.T),axis=1)\n",
    "Y=np.matrix(ytrain['label'])\n",
    "theta=np.zeros(Merged_mat.shape[1])\n",
    "theta=theta.reshape(Merged_mat.shape[1],1)\n",
    "print(\"it is merged matrix of two matrix X1 and X2 \" ,Merged_mat.shape)\n",
    "print(\"It is the shape of label which is take as Y\" ,Y.shape)\n",
    "print(\"It is the shape of theta which is take as theta\" ,theta.shape)\n"
   ]
  },
  {
   "cell_type": "code",
   "execution_count": 1249,
   "metadata": {},
   "outputs": [
    {
     "name": "stdout",
     "output_type": "stream",
     "text": [
      "Enter number of Itration\n",
      "Enter the Aphla\n"
     ]
    }
   ],
   "source": [
    "print(\"Enter number of Itration\")\n",
    "itr=50000\n",
    "print(\"Enter the Aphla\")\n",
    "aphla=0.1"
   ]
  },
  {
   "cell_type": "code",
   "execution_count": 1250,
   "metadata": {},
   "outputs": [],
   "source": [
    "def sigmod(hip_cur):\n",
    "    return 1/(1+np.exp(-hip_cur))"
   ]
  },
  {
   "cell_type": "code",
   "execution_count": 1251,
   "metadata": {},
   "outputs": [],
   "source": [
    "for i in range(itr):\n",
    "    appro_y=sigmod(np.sum(np.dot(Merged_mat,theta)))\n",
    "    gradient= -np.dot(Merged_mat.T,(appro_y-Y).T)/Merged_mat.shape[0]\n",
    "    theta -= 0.6*gradient"
   ]
  },
  {
   "cell_type": "code",
   "execution_count": null,
   "metadata": {},
   "outputs": [],
   "source": []
  },
  {
   "cell_type": "code",
   "execution_count": 1252,
   "metadata": {},
   "outputs": [],
   "source": [
    "xtest.reset_index(drop=True,inplace=True)\n",
    "ytest.reset_index(drop=True,inplace=True)\n"
   ]
  },
  {
   "cell_type": "code",
   "execution_count": null,
   "metadata": {},
   "outputs": [],
   "source": []
  },
  {
   "cell_type": "code",
   "execution_count": 1253,
   "metadata": {},
   "outputs": [],
   "source": [
    "X1=np.matrix(xtest['X'])\n",
    "X2=np.matrix(xtest['Y'])\n",
    "\n",
    "Merged_mat_test=np.concatenate((np.matrix(np.ones(xtest.shape[0])).T,X1.T,X2.T),axis=1)"
   ]
  },
  {
   "cell_type": "code",
   "execution_count": 1254,
   "metadata": {},
   "outputs": [],
   "source": [
    "count=0\n",
    "for i in range(Merged_mat_test.shape[0]):\n",
    "    if(np.array(ytest)[i]==sigmod(np.sum(np.dot(Merged_mat_test,theta)))):\n",
    "        count=count+1"
   ]
  },
  {
   "cell_type": "code",
   "execution_count": null,
   "metadata": {},
   "outputs": [],
   "source": []
  },
  {
   "cell_type": "code",
   "execution_count": 1255,
   "metadata": {},
   "outputs": [
    {
     "data": {
      "text/plain": [
       "45.0"
      ]
     },
     "execution_count": 1255,
     "metadata": {},
     "output_type": "execute_result"
    }
   ],
   "source": [
    "#accurary\n",
    "count/len(ytest)*100\n"
   ]
  },
  {
   "cell_type": "code",
   "execution_count": null,
   "metadata": {},
   "outputs": [],
   "source": []
  },
  {
   "cell_type": "code",
   "execution_count": null,
   "metadata": {},
   "outputs": [],
   "source": []
  },
  {
   "cell_type": "code",
   "execution_count": null,
   "metadata": {},
   "outputs": [],
   "source": []
  },
  {
   "cell_type": "code",
   "execution_count": null,
   "metadata": {},
   "outputs": [],
   "source": []
  }
 ],
 "metadata": {
  "kernelspec": {
   "display_name": "Python 3",
   "language": "python",
   "name": "python3"
  },
  "language_info": {
   "codemirror_mode": {
    "name": "ipython",
    "version": 3
   },
   "file_extension": ".py",
   "mimetype": "text/x-python",
   "name": "python",
   "nbconvert_exporter": "python",
   "pygments_lexer": "ipython3",
   "version": "3.6.4"
  }
 },
 "nbformat": 4,
 "nbformat_minor": 2
}
