{
 "cells": [
  {
   "cell_type": "code",
   "execution_count": 6,
   "metadata": {},
   "outputs": [],
   "source": [
    "import pandas as pd \n",
    "import numpy as np\n",
    "from sklearn.model_selection import train_test_split"
   ]
  },
  {
   "cell_type": "code",
   "execution_count": 7,
   "metadata": {
    "scrolled": true
   },
   "outputs": [],
   "source": [
    "mydata=pd.read_csv(\"logistic_reg_data.csv\",index_col=False)\n",
    "xtrain,xtest,ytrain,ytest = train_test_split(mydata[[\"X\",\"Y\"]],mydata[[\"label\"]],test_size=0.2)\n",
    "X1=np.matrix(xtrain['X'])\n",
    "X2=np.matrix(xtrain['Y'])\n"
   ]
  },
  {
   "cell_type": "code",
   "execution_count": 8,
   "metadata": {},
   "outputs": [
    {
     "name": "stdout",
     "output_type": "stream",
     "text": [
      "it is merged matrix of two matrix X1 and X2  (160, 3)\n",
      "It is the shape of label which is take as Y (1, 160)\n",
      "It is the shape of theta which is take as theta (3, 1)\n",
      "Enter number of Itration\n",
      "Enter the Aphla\n"
     ]
    }
   ],
   "source": [
    "Merged_mat=np.concatenate((np.matrix(np.ones(xtrain.shape[0])).T,X1.T,X2.T),axis=1)\n",
    "Y=np.matrix(ytrain['label'])\n",
    "theta=np.zeros(Merged_mat.shape[1])\n",
    "theta=theta.reshape(Merged_mat.shape[1],1)\n",
    "print(\"it is merged matrix of two matrix X1 and X2 \" ,Merged_mat.shape)\n",
    "print(\"It is the shape of label which is take as Y\" ,Y.shape)\n",
    "print(\"It is the shape of theta which is take as theta\" ,theta.shape)\n",
    "print(\"Enter number of Itration\")\n",
    "itr=5000\n",
    "print(\"Enter the Aphla\")\n",
    "aphla=0.1\n"
   ]
  },
  {
   "cell_type": "code",
   "execution_count": 9,
   "metadata": {},
   "outputs": [
    {
     "data": {
      "text/plain": [
       "(3, 1)"
      ]
     },
     "execution_count": 9,
     "metadata": {},
     "output_type": "execute_result"
    }
   ],
   "source": [
    "def sigmod(hip_cur):\n",
    "    return 1/(1+np.exp(-hip_cur))\n",
    "theta.shape"
   ]
  },
  {
   "cell_type": "code",
   "execution_count": 10,
   "metadata": {},
   "outputs": [],
   "source": [
    "for i in range(itr):\n",
    "\n",
    "    appro_y=sigmod((np.dot(Merged_mat,theta)))\n",
    "    gradient= np.dot(Merged_mat.T,(appro_y-Y.T))\n",
    "    theta = theta- (0.1/160)*gradient"
   ]
  },
  {
   "cell_type": "code",
   "execution_count": 11,
   "metadata": {},
   "outputs": [],
   "source": [
    "xtest.reset_index(drop=True,inplace=True)\n",
    "ytest.reset_index(drop=True,inplace=True)\n",
    "X1=np.matrix(xtest['X'])\n",
    "X2=np.matrix(xtest['Y'])"
   ]
  },
  {
   "cell_type": "code",
   "execution_count": 12,
   "metadata": {},
   "outputs": [],
   "source": [
    "Merged_mat_test=np.concatenate((np.matrix(np.ones(xtest.shape[0])).T,X1.T,X2.T),axis=1)\n",
    "result=sigmod((np.dot(Merged_mat_test,theta)))\n",
    "res=np.round(result)"
   ]
  },
  {
   "cell_type": "code",
   "execution_count": 13,
   "metadata": {},
   "outputs": [
    {
     "name": "stdout",
     "output_type": "stream",
     "text": [
      "97.5\n"
     ]
    }
   ],
   "source": [
    "count=0\n",
    "for i in range(xtest.shape[0]):\n",
    "    if(res[i]==np.array(ytest)[i]):\n",
    "        count=count+1\n",
    "print((count/xtest.shape[0])*100)"
   ]
  },
  {
   "cell_type": "code",
   "execution_count": null,
   "metadata": {},
   "outputs": [],
   "source": []
  },
  {
   "cell_type": "code",
   "execution_count": null,
   "metadata": {},
   "outputs": [],
   "source": []
  },
  {
   "cell_type": "code",
   "execution_count": null,
   "metadata": {},
   "outputs": [],
   "source": []
  },
  {
   "cell_type": "code",
   "execution_count": null,
   "metadata": {},
   "outputs": [],
   "source": []
  }
 ],
 "metadata": {
  "kernelspec": {
   "display_name": "Python 3",
   "language": "python",
   "name": "python3"
  },
  "language_info": {
   "codemirror_mode": {
    "name": "ipython",
    "version": 3
   },
   "file_extension": ".py",
   "mimetype": "text/x-python",
   "name": "python",
   "nbconvert_exporter": "python",
   "pygments_lexer": "ipython3",
   "version": "3.6.4"
  }
 },
 "nbformat": 4,
 "nbformat_minor": 2
}
